{
  "nbformat": 4,
  "nbformat_minor": 0,
  "metadata": {
    "colab": {
      "name": "_00 Google Colab, Jupyter Notebook, Markdown.ipynb",
      "provenance": [],
      "collapsed_sections": [],
      "include_colab_link": true
    },
    "kernelspec": {
      "name": "python3",
      "display_name": "Python 3"
    }
  },
  "cells": [
    {
      "cell_type": "markdown",
      "metadata": {
        "id": "view-in-github",
        "colab_type": "text"
      },
      "source": [
        "<a href=\"https://colab.research.google.com/github/electricShoes/ML/blob/main/_00_Google_Colab%2C_Jupyter_Notebook%2C_Markdown.ipynb\" target=\"_parent\"><img src=\"https://colab.research.google.com/assets/colab-badge.svg\" alt=\"Open In Colab\"/></a>"
      ]
    },
    {
      "cell_type": "markdown",
      "metadata": {
        "id": "bg5ZXMV2sn1M"
      },
      "source": [
        "# Google Colaboratory\n"
      ]
    },
    {
      "cell_type": "markdown",
      "metadata": {
        "id": "Lj_iZPKnCRP0"
      },
      "source": [
        "\n",
        "\n",
        "---\n",
        "\n"
      ]
    },
    {
      "cell_type": "markdown",
      "metadata": {
        "id": "i3r5VFtU5O4U"
      },
      "source": [
        "## Google Colab 사양\n"
      ]
    },
    {
      "cell_type": "markdown",
      "metadata": {
        "id": "gV5e99TT-08Z"
      },
      "source": [
        "* 플랫폼"
      ]
    },
    {
      "cell_type": "code",
      "metadata": {
        "id": "5VeuLl0B-cy4",
        "colab": {
          "base_uri": "https://localhost:8080/",
          "height": 34
        },
        "outputId": "4323e4e9-892b-415d-a76b-ae55f75c0eb0"
      },
      "source": [
        "import platform\n",
        "platform.platform()"
      ],
      "execution_count": 1,
      "outputs": [
        {
          "output_type": "execute_result",
          "data": {
            "application/vnd.google.colaboratory.intrinsic+json": {
              "type": "string"
            },
            "text/plain": [
              "'Linux-5.4.144+-x86_64-with-Ubuntu-18.04-bionic'"
            ]
          },
          "metadata": {},
          "execution_count": 1
        }
      ]
    },
    {
      "cell_type": "markdown",
      "metadata": {
        "id": "Q9f6YpG-5ZCx"
      },
      "source": [
        "* 운영체제"
      ]
    },
    {
      "cell_type": "code",
      "metadata": {
        "id": "IC0e82Ft5Rxt",
        "colab": {
          "base_uri": "https://localhost:8080/"
        },
        "outputId": "20081ef7-f39f-4d5a-b8e7-88d9d74a4249"
      },
      "source": [
        "!cat /etc/issue.net"
      ],
      "execution_count": 2,
      "outputs": [
        {
          "output_type": "stream",
          "name": "stdout",
          "text": [
            "Ubuntu 18.04.5 LTS\n"
          ]
        }
      ]
    },
    {
      "cell_type": "markdown",
      "metadata": {
        "id": "mrQDwTmI5bzQ"
      },
      "source": [
        "* CPU 사양"
      ]
    },
    {
      "cell_type": "code",
      "metadata": {
        "id": "MX782lUX5ju0",
        "colab": {
          "base_uri": "https://localhost:8080/"
        },
        "outputId": "c643a165-e2c0-46fb-abda-50c903e6490d"
      },
      "source": [
        "!cat /proc/cpuinfo"
      ],
      "execution_count": 3,
      "outputs": [
        {
          "output_type": "stream",
          "name": "stdout",
          "text": [
            "processor\t: 0\n",
            "vendor_id\t: GenuineIntel\n",
            "cpu family\t: 6\n",
            "model\t\t: 79\n",
            "model name\t: Intel(R) Xeon(R) CPU @ 2.20GHz\n",
            "stepping\t: 0\n",
            "microcode\t: 0x1\n",
            "cpu MHz\t\t: 2199.998\n",
            "cache size\t: 56320 KB\n",
            "physical id\t: 0\n",
            "siblings\t: 2\n",
            "core id\t\t: 0\n",
            "cpu cores\t: 1\n",
            "apicid\t\t: 0\n",
            "initial apicid\t: 0\n",
            "fpu\t\t: yes\n",
            "fpu_exception\t: yes\n",
            "cpuid level\t: 13\n",
            "wp\t\t: yes\n",
            "flags\t\t: fpu vme de pse tsc msr pae mce cx8 apic sep mtrr pge mca cmov pat pse36 clflush mmx fxsr sse sse2 ss ht syscall nx pdpe1gb rdtscp lm constant_tsc rep_good nopl xtopology nonstop_tsc cpuid tsc_known_freq pni pclmulqdq ssse3 fma cx16 pcid sse4_1 sse4_2 x2apic movbe popcnt aes xsave avx f16c rdrand hypervisor lahf_lm abm 3dnowprefetch invpcid_single ssbd ibrs ibpb stibp fsgsbase tsc_adjust bmi1 hle avx2 smep bmi2 erms invpcid rtm rdseed adx smap xsaveopt arat md_clear arch_capabilities\n",
            "bugs\t\t: cpu_meltdown spectre_v1 spectre_v2 spec_store_bypass l1tf mds swapgs taa\n",
            "bogomips\t: 4399.99\n",
            "clflush size\t: 64\n",
            "cache_alignment\t: 64\n",
            "address sizes\t: 46 bits physical, 48 bits virtual\n",
            "power management:\n",
            "\n",
            "processor\t: 1\n",
            "vendor_id\t: GenuineIntel\n",
            "cpu family\t: 6\n",
            "model\t\t: 79\n",
            "model name\t: Intel(R) Xeon(R) CPU @ 2.20GHz\n",
            "stepping\t: 0\n",
            "microcode\t: 0x1\n",
            "cpu MHz\t\t: 2199.998\n",
            "cache size\t: 56320 KB\n",
            "physical id\t: 0\n",
            "siblings\t: 2\n",
            "core id\t\t: 0\n",
            "cpu cores\t: 1\n",
            "apicid\t\t: 1\n",
            "initial apicid\t: 1\n",
            "fpu\t\t: yes\n",
            "fpu_exception\t: yes\n",
            "cpuid level\t: 13\n",
            "wp\t\t: yes\n",
            "flags\t\t: fpu vme de pse tsc msr pae mce cx8 apic sep mtrr pge mca cmov pat pse36 clflush mmx fxsr sse sse2 ss ht syscall nx pdpe1gb rdtscp lm constant_tsc rep_good nopl xtopology nonstop_tsc cpuid tsc_known_freq pni pclmulqdq ssse3 fma cx16 pcid sse4_1 sse4_2 x2apic movbe popcnt aes xsave avx f16c rdrand hypervisor lahf_lm abm 3dnowprefetch invpcid_single ssbd ibrs ibpb stibp fsgsbase tsc_adjust bmi1 hle avx2 smep bmi2 erms invpcid rtm rdseed adx smap xsaveopt arat md_clear arch_capabilities\n",
            "bugs\t\t: cpu_meltdown spectre_v1 spectre_v2 spec_store_bypass l1tf mds swapgs taa\n",
            "bogomips\t: 4399.99\n",
            "clflush size\t: 64\n",
            "cache_alignment\t: 64\n",
            "address sizes\t: 46 bits physical, 48 bits virtual\n",
            "power management:\n",
            "\n"
          ]
        }
      ]
    },
    {
      "cell_type": "markdown",
      "metadata": {
        "id": "XQbXXmZ75ffA"
      },
      "source": [
        "* 메모리 사양"
      ]
    },
    {
      "cell_type": "code",
      "metadata": {
        "id": "vJ0_EPba5sP1",
        "colab": {
          "base_uri": "https://localhost:8080/"
        },
        "outputId": "a29a9700-9393-42b3-87d8-3154b85c9fc2"
      },
      "source": [
        "!cat /proc/meminfo"
      ],
      "execution_count": 4,
      "outputs": [
        {
          "output_type": "stream",
          "name": "stdout",
          "text": [
            "MemTotal:       13302920 kB\n",
            "MemFree:        10724436 kB\n",
            "MemAvailable:   12459844 kB\n",
            "Buffers:          117632 kB\n",
            "Cached:          1763208 kB\n",
            "SwapCached:            0 kB\n",
            "Active:          1009044 kB\n",
            "Inactive:        1349836 kB\n",
            "Active(anon):     438148 kB\n",
            "Inactive(anon):      460 kB\n",
            "Active(file):     570896 kB\n",
            "Inactive(file):  1349376 kB\n",
            "Unevictable:           0 kB\n",
            "Mlocked:               0 kB\n",
            "SwapTotal:             0 kB\n",
            "SwapFree:              0 kB\n",
            "Dirty:              1524 kB\n",
            "Writeback:             0 kB\n",
            "AnonPages:        478272 kB\n",
            "Mapped:           252996 kB\n",
            "Shmem:              1176 kB\n",
            "KReclaimable:     113224 kB\n",
            "Slab:             154844 kB\n",
            "SReclaimable:     113224 kB\n",
            "SUnreclaim:        41620 kB\n",
            "KernelStack:        4944 kB\n",
            "PageTables:         6324 kB\n",
            "NFS_Unstable:          0 kB\n",
            "Bounce:                0 kB\n",
            "WritebackTmp:          0 kB\n",
            "CommitLimit:     6651460 kB\n",
            "Committed_AS:    3163364 kB\n",
            "VmallocTotal:   34359738367 kB\n",
            "VmallocUsed:        7296 kB\n",
            "VmallocChunk:          0 kB\n",
            "Percpu:             1448 kB\n",
            "AnonHugePages:      2048 kB\n",
            "ShmemHugePages:        0 kB\n",
            "ShmemPmdMapped:        0 kB\n",
            "FileHugePages:         0 kB\n",
            "FilePmdMapped:         0 kB\n",
            "CmaTotal:              0 kB\n",
            "CmaFree:               0 kB\n",
            "HugePages_Total:       0\n",
            "HugePages_Free:        0\n",
            "HugePages_Rsvd:        0\n",
            "HugePages_Surp:        0\n",
            "Hugepagesize:       2048 kB\n",
            "Hugetlb:               0 kB\n",
            "DirectMap4k:       99136 kB\n",
            "DirectMap2M:     5140480 kB\n",
            "DirectMap1G:    10485760 kB\n"
          ]
        }
      ]
    },
    {
      "cell_type": "markdown",
      "metadata": {
        "id": "EaOIRYVP5w30"
      },
      "source": [
        "* 디스크 사양"
      ]
    },
    {
      "cell_type": "code",
      "metadata": {
        "id": "FKWOPJNv5y2y",
        "colab": {
          "base_uri": "https://localhost:8080/"
        },
        "outputId": "a1083001-51c2-473e-9e13-19d05217f521"
      },
      "source": [
        "!df -h"
      ],
      "execution_count": 5,
      "outputs": [
        {
          "output_type": "stream",
          "name": "stdout",
          "text": [
            "Filesystem      Size  Used Avail Use% Mounted on\n",
            "overlay         108G   42G   66G  39% /\n",
            "tmpfs            64M     0   64M   0% /dev\n",
            "shm             5.8G     0  5.8G   0% /dev/shm\n",
            "/dev/root       2.0G  1.2G  817M  59% /sbin/docker-init\n",
            "tmpfs           6.4G   28K  6.4G   1% /var/colab\n",
            "/dev/sda1        81G   46G   36G  57% /etc/hosts\n",
            "tmpfs           6.4G     0  6.4G   0% /proc/acpi\n",
            "tmpfs           6.4G     0  6.4G   0% /proc/scsi\n",
            "tmpfs           6.4G     0  6.4G   0% /sys/firmware\n"
          ]
        }
      ]
    },
    {
      "cell_type": "markdown",
      "metadata": {
        "id": "i2LgCHNv541D"
      },
      "source": [
        "* 파이썬 버전"
      ]
    },
    {
      "cell_type": "code",
      "metadata": {
        "id": "AZNd_Cpi57SD",
        "colab": {
          "base_uri": "https://localhost:8080/"
        },
        "outputId": "da0bf58d-651d-4a84-ed22-ee2e30ea521b"
      },
      "source": [
        "!python --version"
      ],
      "execution_count": 6,
      "outputs": [
        {
          "output_type": "stream",
          "name": "stdout",
          "text": [
            "Python 3.7.12\n"
          ]
        }
      ]
    },
    {
      "cell_type": "markdown",
      "metadata": {
        "id": "ZLrgX-u15_wI"
      },
      "source": [
        "## Google Colab 런타임\n",
        "* Colab에서 고성능 하드웨어로 GPU나 TPU 사용 가능\n",
        "* 런타임 유형 변경(Change runtime type) 필요\n",
        "  + None: CPU만 사용\n",
        "  + GPU: 하드웨어 가속으로 GPU 사용\n",
        "  + TPU: 하드웨어 가속으로 TPU 사용"
      ]
    },
    {
      "cell_type": "code",
      "metadata": {
        "id": "Oa3X6JLZ6BE1",
        "colab": {
          "base_uri": "https://localhost:8080/"
        },
        "outputId": "7f9802f2-cb02-4853-cd0a-8d903b71688a"
      },
      "source": [
        "!nvidia-smi"
      ],
      "execution_count": 7,
      "outputs": [
        {
          "output_type": "stream",
          "name": "stdout",
          "text": [
            "NVIDIA-SMI has failed because it couldn't communicate with the NVIDIA driver. Make sure that the latest NVIDIA driver is installed and running.\n",
            "\n"
          ]
        }
      ]
    },
    {
      "cell_type": "markdown",
      "metadata": {
        "id": "VxNA7zfv-6wx"
      },
      "source": [
        "## 파일 저장 및 다운로드/업로드\n",
        "\n",
        "* Jupyter Notebook 환경에서 파일 저장 및 다운로드"
      ]
    },
    {
      "cell_type": "code",
      "metadata": {
        "id": "oTiMWM70_E42",
        "colab": {
          "base_uri": "https://localhost:8080/"
        },
        "outputId": "e24b72bb-0831-4e05-c2d5-c03d31397efb"
      },
      "source": [
        "%%writefile test.text\n",
        "text"
      ],
      "execution_count": 8,
      "outputs": [
        {
          "output_type": "stream",
          "name": "stdout",
          "text": [
            "Writing test.text\n"
          ]
        }
      ]
    },
    {
      "cell_type": "code",
      "metadata": {
        "id": "ptEgaG3v_QSR",
        "colab": {
          "base_uri": "https://localhost:8080/"
        },
        "outputId": "2c4d2455-00ba-4ca2-ee95-93729089853e"
      },
      "source": [
        "!cat test.text"
      ],
      "execution_count": 9,
      "outputs": [
        {
          "output_type": "stream",
          "name": "stdout",
          "text": [
            "text"
          ]
        }
      ]
    },
    {
      "cell_type": "code",
      "metadata": {
        "id": "-HGNOyHk_Yxg",
        "colab": {
          "base_uri": "https://localhost:8080/",
          "height": 34
        },
        "outputId": "c78561d6-fc90-4be3-9f42-5989a762de82"
      },
      "source": [
        "from google.colab import files\n",
        "files.download('test.text')"
      ],
      "execution_count": 10,
      "outputs": [
        {
          "output_type": "display_data",
          "data": {
            "application/javascript": [
              "\n",
              "    async function download(id, filename, size) {\n",
              "      if (!google.colab.kernel.accessAllowed) {\n",
              "        return;\n",
              "      }\n",
              "      const div = document.createElement('div');\n",
              "      const label = document.createElement('label');\n",
              "      label.textContent = `Downloading \"${filename}\": `;\n",
              "      div.appendChild(label);\n",
              "      const progress = document.createElement('progress');\n",
              "      progress.max = size;\n",
              "      div.appendChild(progress);\n",
              "      document.body.appendChild(div);\n",
              "\n",
              "      const buffers = [];\n",
              "      let downloaded = 0;\n",
              "\n",
              "      const channel = await google.colab.kernel.comms.open(id);\n",
              "      // Send a message to notify the kernel that we're ready.\n",
              "      channel.send({})\n",
              "\n",
              "      for await (const message of channel.messages) {\n",
              "        // Send a message to notify the kernel that we're ready.\n",
              "        channel.send({})\n",
              "        if (message.buffers) {\n",
              "          for (const buffer of message.buffers) {\n",
              "            buffers.push(buffer);\n",
              "            downloaded += buffer.byteLength;\n",
              "            progress.value = downloaded;\n",
              "          }\n",
              "        }\n",
              "      }\n",
              "      const blob = new Blob(buffers, {type: 'application/binary'});\n",
              "      const a = document.createElement('a');\n",
              "      a.href = window.URL.createObjectURL(blob);\n",
              "      a.download = filename;\n",
              "      div.appendChild(a);\n",
              "      a.click();\n",
              "      div.remove();\n",
              "    }\n",
              "  "
            ],
            "text/plain": [
              "<IPython.core.display.Javascript object>"
            ]
          },
          "metadata": {}
        },
        {
          "output_type": "display_data",
          "data": {
            "application/javascript": [
              "download(\"download_d92dd1e1-930b-4b8b-b5f3-10c0bb070a52\", \"test.text\", 4)"
            ],
            "text/plain": [
              "<IPython.core.display.Javascript object>"
            ]
          },
          "metadata": {}
        }
      ]
    },
    {
      "cell_type": "code",
      "metadata": {
        "id": "6MLJ6R60AIQJ",
        "colab": {
          "resources": {
            "http://localhost:8080/nbextensions/google.colab/files.js": {
              "data": "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",
              "ok": true,
              "headers": [
                [
                  "content-type",
                  "application/javascript"
                ]
              ],
              "status": 200,
              "status_text": ""
            }
          },
          "base_uri": "https://localhost:8080/",
          "height": 77
        },
        "outputId": "cdd731e0-ce77-4ce8-e0b0-7df1d5bda21c"
      },
      "source": [
        "upload = files.upload()"
      ],
      "execution_count": 11,
      "outputs": [
        {
          "output_type": "display_data",
          "data": {
            "text/html": [
              "\n",
              "     <input type=\"file\" id=\"files-3290045b-6b7c-4f89-977e-243d33617fc9\" name=\"files[]\" multiple disabled\n",
              "        style=\"border:none\" />\n",
              "     <output id=\"result-3290045b-6b7c-4f89-977e-243d33617fc9\">\n",
              "      Upload widget is only available when the cell has been executed in the\n",
              "      current browser session. Please rerun this cell to enable.\n",
              "      </output>\n",
              "      <script src=\"/nbextensions/google.colab/files.js\"></script> "
            ],
            "text/plain": [
              "<IPython.core.display.HTML object>"
            ]
          },
          "metadata": {}
        },
        {
          "output_type": "stream",
          "name": "stdout",
          "text": [
            "Saving wine.csv to wine.csv\n"
          ]
        }
      ]
    },
    {
      "cell_type": "code",
      "metadata": {
        "id": "8m2sm45lAriv",
        "colab": {
          "base_uri": "https://localhost:8080/"
        },
        "outputId": "4434888a-e124-4a10-f0a2-7177c1533197"
      },
      "source": [
        "!ls"
      ],
      "execution_count": 12,
      "outputs": [
        {
          "output_type": "stream",
          "name": "stdout",
          "text": [
            "sample_data  test.text\twine.csv\n"
          ]
        }
      ]
    },
    {
      "cell_type": "markdown",
      "metadata": {
        "id": "cfKtU4-x7UnX"
      },
      "source": [
        "## Google Drive 연동\n",
        "\n",
        "* Google Colab은 Google Drive와 `mount`를 통해 쉽게 연동 가능\n",
        "* Google Drive에 소스 코드 저장 뿐만 아니라 파일을 열거나 저장 가능"
      ]
    },
    {
      "cell_type": "code",
      "metadata": {
        "id": "q0ryTyk77UOs",
        "colab": {
          "base_uri": "https://localhost:8080/"
        },
        "outputId": "8428d78c-c905-435c-cb96-dd0575083183"
      },
      "source": [
        "from google.colab import drive\n",
        "drive.mount('/content/drive')"
      ],
      "execution_count": 13,
      "outputs": [
        {
          "output_type": "stream",
          "name": "stdout",
          "text": [
            "Mounted at /content/drive\n"
          ]
        }
      ]
    },
    {
      "cell_type": "code",
      "metadata": {
        "id": "KI96G3Fq7wg1",
        "colab": {
          "base_uri": "https://localhost:8080/"
        },
        "outputId": "40aea654-26f4-4c2e-c77b-b737da9efcba"
      },
      "source": [
        "! ls /content/drive/"
      ],
      "execution_count": 14,
      "outputs": [
        {
          "output_type": "stream",
          "name": "stdout",
          "text": [
            "MyDrive  Othercomputers\n"
          ]
        }
      ]
    },
    {
      "cell_type": "markdown",
      "metadata": {
        "id": "8OoBiBv4UBWm"
      },
      "source": [
        "\n",
        "\n",
        "---\n",
        "\n"
      ]
    },
    {
      "cell_type": "markdown",
      "metadata": {
        "id": "ID57POzYUYyl"
      },
      "source": [
        "# Jupyter Notebook\n"
      ]
    },
    {
      "cell_type": "markdown",
      "metadata": {
        "id": "ZTkr0NKRXEiq"
      },
      "source": [
        "## help()\n",
        "\n",
        "* 파이썬 객체에 대한 요약 정보와 사용법 보기"
      ]
    },
    {
      "cell_type": "code",
      "metadata": {
        "id": "S_aXiV9VW_1u",
        "colab": {
          "base_uri": "https://localhost:8080/"
        },
        "outputId": "7994c33f-405d-4905-f0d9-564b0c695619"
      },
      "source": [
        "help(max)"
      ],
      "execution_count": 15,
      "outputs": [
        {
          "output_type": "stream",
          "name": "stdout",
          "text": [
            "Help on built-in function max in module builtins:\n",
            "\n",
            "max(...)\n",
            "    max(iterable, *[, default=obj, key=func]) -> value\n",
            "    max(arg1, arg2, *args, *[, key=func]) -> value\n",
            "    \n",
            "    With a single iterable argument, return its biggest item. The\n",
            "    default keyword-only argument specifies an object to return if\n",
            "    the provided iterable is empty.\n",
            "    With two or more arguments, return the largest argument.\n",
            "\n"
          ]
        }
      ]
    },
    {
      "cell_type": "markdown",
      "metadata": {
        "id": "X6F7JOv0Xv2a"
      },
      "source": [
        "## ?로 설명 보기\n",
        "\n",
        "* 객체 요약 정보 및 사용법이 있는 docstring 보기"
      ]
    },
    {
      "cell_type": "code",
      "metadata": {
        "id": "KzrQ0xy0Xk42"
      },
      "source": [
        "max?"
      ],
      "execution_count": 16,
      "outputs": []
    },
    {
      "cell_type": "code",
      "metadata": {
        "id": "qDEczcmvYHmm"
      },
      "source": [
        "li = ['One', 'Two', 'Three']\n",
        "li?"
      ],
      "execution_count": 17,
      "outputs": []
    },
    {
      "cell_type": "code",
      "metadata": {
        "id": "Ep2oX_Ollb_C"
      },
      "source": [
        "li.count?"
      ],
      "execution_count": 18,
      "outputs": []
    },
    {
      "cell_type": "code",
      "metadata": {
        "id": "lpM-ijxnltUG"
      },
      "source": [
        "def power(b, n):\n",
        "    \"\"\"b의 n승을 반환 \"\"\"\n",
        "    return pow(b, n)"
      ],
      "execution_count": 19,
      "outputs": []
    },
    {
      "cell_type": "code",
      "metadata": {
        "id": "l7p0YMtDmEFS"
      },
      "source": [
        "power?"
      ],
      "execution_count": 20,
      "outputs": []
    },
    {
      "cell_type": "markdown",
      "metadata": {
        "id": "gtRsneYd-slf"
      },
      "source": [
        "## 탭(tab) 자동완성\n",
        "\n",
        "* 객체와 모듈, 인터페이스의 내용을 자동 완성"
      ]
    },
    {
      "cell_type": "code",
      "metadata": {
        "id": "PK4fJOk6-we7",
        "outputId": "901e7213-1c44-449c-e5cf-e626f80f58a3",
        "colab": {
          "base_uri": "https://localhost:8080/"
        }
      },
      "source": [
        "li = ['One', 'Two', 'Three']\n",
        "li.append\n",
        "li.clear\n",
        "li.count"
      ],
      "execution_count": 21,
      "outputs": [
        {
          "output_type": "execute_result",
          "data": {
            "text/plain": [
              "<function list.count>"
            ]
          },
          "metadata": {},
          "execution_count": 21
        }
      ]
    },
    {
      "cell_type": "markdown",
      "metadata": {
        "id": "xP7n3Oqp_N0K"
      },
      "source": [
        "##와일드카드(wildcard) 매칭\n",
        "\n",
        "* 단어의 중간이나 마지막 글자로 매칭하여 객체나 속성 찾기"
      ]
    },
    {
      "cell_type": "code",
      "metadata": {
        "id": "W7ceOXpi_JNk"
      },
      "source": [
        "*Error?"
      ],
      "execution_count": null,
      "outputs": []
    },
    {
      "cell_type": "code",
      "metadata": {
        "id": "IMjy2bc0_TwQ"
      },
      "source": [
        "str.*index*?"
      ],
      "execution_count": 23,
      "outputs": []
    },
    {
      "cell_type": "markdown",
      "metadata": {
        "id": "yCRnab5c_mBh"
      },
      "source": [
        "## 매직 명령어(magic commands)\n",
        "\n",
        "* Jupyter Notebook 환경에서 파이썬 파일 저장 및 실행"
      ]
    },
    {
      "cell_type": "code",
      "metadata": {
        "id": "t6ufEi9q_qS4",
        "colab": {
          "base_uri": "https://localhost:8080/"
        },
        "outputId": "983eef77-ba0f-4d3e-e447-04ef0fed05e8"
      },
      "source": [
        "%%writefile test.py\n",
        "print('hello Colab')"
      ],
      "execution_count": 24,
      "outputs": [
        {
          "output_type": "stream",
          "name": "stdout",
          "text": [
            "Writing test.py\n"
          ]
        }
      ]
    },
    {
      "cell_type": "code",
      "metadata": {
        "id": "GVRuezjk_wLD",
        "colab": {
          "base_uri": "https://localhost:8080/"
        },
        "outputId": "fc2f26a2-e177-43cb-f684-67feb5a40958"
      },
      "source": [
        "%run test.py"
      ],
      "execution_count": 25,
      "outputs": [
        {
          "output_type": "stream",
          "name": "stdout",
          "text": [
            "hello Colab\n"
          ]
        }
      ]
    },
    {
      "cell_type": "markdown",
      "metadata": {
        "id": "MzKD0owDXs7r"
      },
      "source": [
        "* 코드 실행 시간 측정"
      ]
    },
    {
      "cell_type": "code",
      "metadata": {
        "id": "YfO_C9-2bQRn"
      },
      "source": [
        "%%timeit?"
      ],
      "execution_count": 26,
      "outputs": []
    },
    {
      "cell_type": "code",
      "metadata": {
        "id": "Yj-cfvBVWuf-",
        "colab": {
          "base_uri": "https://localhost:8080/"
        },
        "outputId": "c4d93215-eb22-4dbf-86e3-4c03c9e2c36e"
      },
      "source": [
        "%timeit li = [n ** n for n in range(10000)]"
      ],
      "execution_count": 27,
      "outputs": [
        {
          "output_type": "stream",
          "name": "stdout",
          "text": [
            "1 loop, best of 5: 6.15 s per loop\n"
          ]
        }
      ]
    },
    {
      "cell_type": "code",
      "metadata": {
        "id": "RbEaBBjaYHDM",
        "colab": {
          "base_uri": "https://localhost:8080/"
        },
        "outputId": "d5fcb633-b16d-43c4-e1d4-9185ac2f5cd7"
      },
      "source": [
        "%%timeit\n",
        "li = []\n",
        "for n in range(10000):\n",
        "    li.append(n**n)"
      ],
      "execution_count": 28,
      "outputs": [
        {
          "output_type": "stream",
          "name": "stdout",
          "text": [
            "1 loop, best of 5: 6.16 s per loop\n"
          ]
        }
      ]
    },
    {
      "cell_type": "markdown",
      "metadata": {
        "id": "SROwYmP9rEQd"
      },
      "source": [
        "## 입력과 출력 이력\n",
        "\n",
        "* In과 Out 객체를 통해 이전 명령어와 명령어의 출력 결과 보기"
      ]
    },
    {
      "cell_type": "code",
      "metadata": {
        "id": "SjxoRZdbpttu",
        "colab": {
          "base_uri": "https://localhost:8080/"
        },
        "outputId": "26f2cffb-ed4e-4b6b-a3fe-4da14b9a6a58"
      },
      "source": [
        "In"
      ],
      "execution_count": 29,
      "outputs": [
        {
          "output_type": "execute_result",
          "data": {
            "text/plain": [
              "['',\n",
              " 'import platform\\nplatform.platform()',\n",
              " \"get_ipython().system('cat /etc/issue.net')\",\n",
              " \"get_ipython().system('cat /proc/cpuinfo')\",\n",
              " \"get_ipython().system('cat /proc/meminfo')\",\n",
              " \"get_ipython().system('df -h')\",\n",
              " \"get_ipython().system('python --version')\",\n",
              " \"get_ipython().system('nvidia-smi')\",\n",
              " \"get_ipython().run_cell_magic('writefile', 'test.text', 'text')\",\n",
              " \"get_ipython().system('cat test.text')\",\n",
              " \"from google.colab import files\\nfiles.download('test.text')\",\n",
              " 'upload = files.upload()',\n",
              " \"get_ipython().system('ls')\",\n",
              " \"from google.colab import drive\\ndrive.mount('/content/drive')\",\n",
              " \"get_ipython().system(' ls /content/drive/')\",\n",
              " 'help(max)',\n",
              " \"get_ipython().magic('pinfo max')\",\n",
              " \"li = ['One', 'Two', 'Three']\\nget_ipython().magic('pinfo li')\",\n",
              " \"get_ipython().magic('pinfo li.count')\",\n",
              " 'def power(b, n):\\n    \"\"\"b의 n승을 반환 \"\"\"\\n    return pow(b, n)',\n",
              " \"get_ipython().magic('pinfo power')\",\n",
              " \"li = ['One', 'Two', 'Three']\\nli.append\\nli.clear\\nli.count\",\n",
              " \"get_ipython().magic('psearch *Error')\",\n",
              " \"get_ipython().magic('psearch str.*index*')\",\n",
              " 'get_ipython().run_cell_magic(\\'writefile\\', \\'test.py\\', \"print(\\'hello Colab\\')\")',\n",
              " \"get_ipython().magic('run test.py')\",\n",
              " \"get_ipython().magic('pinfo %%timeit')\",\n",
              " \"get_ipython().magic('timeit li = [n ** n for n in range(10000)]')\",\n",
              " \"get_ipython().run_cell_magic('timeit', '', 'li = []\\\\nfor n in range(10000):\\\\n    li.append(n**n)')\",\n",
              " 'In']"
            ]
          },
          "metadata": {},
          "execution_count": 29
        }
      ]
    },
    {
      "cell_type": "code",
      "metadata": {
        "id": "Bbcl7xxSr33V",
        "colab": {
          "base_uri": "https://localhost:8080/",
          "height": 34
        },
        "outputId": "aca947bb-86c8-44ff-9a43-0326c792431e"
      },
      "source": [
        "In[26]"
      ],
      "execution_count": 30,
      "outputs": [
        {
          "output_type": "execute_result",
          "data": {
            "application/vnd.google.colaboratory.intrinsic+json": {
              "type": "string"
            },
            "text/plain": [
              "\"get_ipython().magic('pinfo %%timeit')\""
            ]
          },
          "metadata": {},
          "execution_count": 30
        }
      ]
    },
    {
      "cell_type": "code",
      "metadata": {
        "id": "5lJahT8crj6K",
        "colab": {
          "base_uri": "https://localhost:8080/"
        },
        "outputId": "b6c5cd86-4ad7-44ee-a69b-57d17e60d808"
      },
      "source": [
        "Out"
      ],
      "execution_count": 31,
      "outputs": [
        {
          "output_type": "execute_result",
          "data": {
            "text/plain": [
              "{1: 'Linux-5.4.144+-x86_64-with-Ubuntu-18.04-bionic',\n",
              " 21: <function list.count>,\n",
              " 29: ['',\n",
              "  'import platform\\nplatform.platform()',\n",
              "  \"get_ipython().system('cat /etc/issue.net')\",\n",
              "  \"get_ipython().system('cat /proc/cpuinfo')\",\n",
              "  \"get_ipython().system('cat /proc/meminfo')\",\n",
              "  \"get_ipython().system('df -h')\",\n",
              "  \"get_ipython().system('python --version')\",\n",
              "  \"get_ipython().system('nvidia-smi')\",\n",
              "  \"get_ipython().run_cell_magic('writefile', 'test.text', 'text')\",\n",
              "  \"get_ipython().system('cat test.text')\",\n",
              "  \"from google.colab import files\\nfiles.download('test.text')\",\n",
              "  'upload = files.upload()',\n",
              "  \"get_ipython().system('ls')\",\n",
              "  \"from google.colab import drive\\ndrive.mount('/content/drive')\",\n",
              "  \"get_ipython().system(' ls /content/drive/')\",\n",
              "  'help(max)',\n",
              "  \"get_ipython().magic('pinfo max')\",\n",
              "  \"li = ['One', 'Two', 'Three']\\nget_ipython().magic('pinfo li')\",\n",
              "  \"get_ipython().magic('pinfo li.count')\",\n",
              "  'def power(b, n):\\n    \"\"\"b의 n승을 반환 \"\"\"\\n    return pow(b, n)',\n",
              "  \"get_ipython().magic('pinfo power')\",\n",
              "  \"li = ['One', 'Two', 'Three']\\nli.append\\nli.clear\\nli.count\",\n",
              "  \"get_ipython().magic('psearch *Error')\",\n",
              "  \"get_ipython().magic('psearch str.*index*')\",\n",
              "  'get_ipython().run_cell_magic(\\'writefile\\', \\'test.py\\', \"print(\\'hello Colab\\')\")',\n",
              "  \"get_ipython().magic('run test.py')\",\n",
              "  \"get_ipython().magic('pinfo %%timeit')\",\n",
              "  \"get_ipython().magic('timeit li = [n ** n for n in range(10000)]')\",\n",
              "  \"get_ipython().run_cell_magic('timeit', '', 'li = []\\\\nfor n in range(10000):\\\\n    li.append(n**n)')\",\n",
              "  'In',\n",
              "  'In[26]',\n",
              "  'Out'],\n",
              " 30: \"get_ipython().magic('pinfo %%timeit')\"}"
            ]
          },
          "metadata": {},
          "execution_count": 31
        }
      ]
    },
    {
      "cell_type": "code",
      "metadata": {
        "id": "SMtBrmvHsNlP",
        "colab": {
          "base_uri": "https://localhost:8080/",
          "height": 34
        },
        "outputId": "fa66cc38-73fd-4633-fd96-c1e06f721a4e"
      },
      "source": [
        "Out[30]"
      ],
      "execution_count": 33,
      "outputs": [
        {
          "output_type": "execute_result",
          "data": {
            "application/vnd.google.colaboratory.intrinsic+json": {
              "type": "string"
            },
            "text/plain": [
              "\"get_ipython().magic('pinfo %%timeit')\""
            ]
          },
          "metadata": {},
          "execution_count": 33
        }
      ]
    },
    {
      "cell_type": "code",
      "metadata": {
        "id": "QbjVTJS4sTAG",
        "colab": {
          "base_uri": "https://localhost:8080/"
        },
        "outputId": "ebb4a900-7c80-4a24-f5fd-7139bd917e26"
      },
      "source": [
        "print(\"In[30]\"+ In[30] + \"\\nOut[30] :\"+ Out[30])"
      ],
      "execution_count": 34,
      "outputs": [
        {
          "output_type": "stream",
          "name": "stdout",
          "text": [
            "In[30]In[26]\n",
            "Out[30] :get_ipython().magic('pinfo %%timeit')\n"
          ]
        }
      ]
    },
    {
      "cell_type": "markdown",
      "metadata": {
        "id": "H4YgwfJAtNUH"
      },
      "source": [
        "* `_`를 이용해 이전 출력값 출력하기"
      ]
    },
    {
      "cell_type": "code",
      "metadata": {
        "id": "cT2w3ITLtKQF",
        "colab": {
          "base_uri": "https://localhost:8080/"
        },
        "outputId": "cba01f00-5f6f-4a10-8a88-304806ab6b0f"
      },
      "source": [
        "print(_)"
      ],
      "execution_count": 35,
      "outputs": [
        {
          "output_type": "stream",
          "name": "stdout",
          "text": [
            "get_ipython().magic('pinfo %%timeit')\n"
          ]
        }
      ]
    },
    {
      "cell_type": "code",
      "metadata": {
        "id": "QFxB16JptUNd",
        "colab": {
          "base_uri": "https://localhost:8080/"
        },
        "outputId": "d6c774b4-e018-45b8-e9e8-1536daba9065"
      },
      "source": [
        "print(__)"
      ],
      "execution_count": 36,
      "outputs": [
        {
          "output_type": "stream",
          "name": "stdout",
          "text": [
            "get_ipython().magic('pinfo %%timeit')\n"
          ]
        }
      ]
    },
    {
      "cell_type": "code",
      "metadata": {
        "id": "7Jfpuu6ZtWjP",
        "colab": {
          "base_uri": "https://localhost:8080/"
        },
        "outputId": "18fa1028-bedd-42a5-f441-c5c133e236b0"
      },
      "source": [
        "print(___)"
      ],
      "execution_count": 37,
      "outputs": [
        {
          "output_type": "stream",
          "name": "stdout",
          "text": [
            "['', 'import platform\\nplatform.platform()', \"get_ipython().system('cat /etc/issue.net')\", \"get_ipython().system('cat /proc/cpuinfo')\", \"get_ipython().system('cat /proc/meminfo')\", \"get_ipython().system('df -h')\", \"get_ipython().system('python --version')\", \"get_ipython().system('nvidia-smi')\", \"get_ipython().run_cell_magic('writefile', 'test.text', 'text')\", \"get_ipython().system('cat test.text')\", \"from google.colab import files\\nfiles.download('test.text')\", 'upload = files.upload()', \"get_ipython().system('ls')\", \"from google.colab import drive\\ndrive.mount('/content/drive')\", \"get_ipython().system(' ls /content/drive/')\", 'help(max)', \"get_ipython().magic('pinfo max')\", \"li = ['One', 'Two', 'Three']\\nget_ipython().magic('pinfo li')\", \"get_ipython().magic('pinfo li.count')\", 'def power(b, n):\\n    \"\"\"b의 n승을 반환 \"\"\"\\n    return pow(b, n)', \"get_ipython().magic('pinfo power')\", \"li = ['One', 'Two', 'Three']\\nli.append\\nli.clear\\nli.count\", \"get_ipython().magic('psearch *Error')\", \"get_ipython().magic('psearch str.*index*')\", 'get_ipython().run_cell_magic(\\'writefile\\', \\'test.py\\', \"print(\\'hello Colab\\')\")', \"get_ipython().magic('run test.py')\", \"get_ipython().magic('pinfo %%timeit')\", \"get_ipython().magic('timeit li = [n ** n for n in range(10000)]')\", \"get_ipython().run_cell_magic('timeit', '', 'li = []\\\\nfor n in range(10000):\\\\n    li.append(n**n)')\", 'In', 'In[26]', 'Out', 'Out[42]', 'Out[30]', 'print(\"In[30]\"+ In[30] + \"\\\\nOut[30] :\"+ Out[30])', 'print(_)', 'print(__)', 'print(___)']\n"
          ]
        }
      ]
    },
    {
      "cell_type": "code",
      "metadata": {
        "id": "4j71-ohhti9u",
        "colab": {
          "base_uri": "https://localhost:8080/",
          "height": 34
        },
        "outputId": "653e6266-43c7-4e1f-d200-cdfe234a24c5"
      },
      "source": [
        "_30"
      ],
      "execution_count": 38,
      "outputs": [
        {
          "output_type": "execute_result",
          "data": {
            "application/vnd.google.colaboratory.intrinsic+json": {
              "type": "string"
            },
            "text/plain": [
              "\"get_ipython().magic('pinfo %%timeit')\""
            ]
          },
          "metadata": {},
          "execution_count": 38
        }
      ]
    },
    {
      "cell_type": "markdown",
      "metadata": {
        "id": "Nf8CVZiTt4r-"
      },
      "source": [
        "* `%history`를 이용한 입력 이력 살펴보기"
      ]
    },
    {
      "cell_type": "code",
      "metadata": {
        "id": "GiVkb35YuQTL",
        "colab": {
          "base_uri": "https://localhost:8080/"
        },
        "outputId": "4853afd2-5230-4ce1-b1db-284e0aa8bed2"
      },
      "source": [
        "%history -n 1-7"
      ],
      "execution_count": 39,
      "outputs": [
        {
          "output_type": "stream",
          "name": "stdout",
          "text": [
            "   1:\n",
            "import platform\n",
            "platform.platform()\n",
            "   2: !cat /etc/issue.net\n",
            "   3: !cat /proc/cpuinfo\n",
            "   4: !cat /proc/meminfo\n",
            "   5: !df -h\n",
            "   6: !python --version\n",
            "   7: !nvidia-smi\n"
          ]
        }
      ]
    },
    {
      "cell_type": "markdown",
      "metadata": {
        "id": "1oOEYT9Zu8Yo"
      },
      "source": [
        "* `%rerun`을 이용해 이전 입력 이력 다시 실행"
      ]
    },
    {
      "cell_type": "code",
      "metadata": {
        "id": "ZWLXBxdtvCOV",
        "colab": {
          "base_uri": "https://localhost:8080/"
        },
        "outputId": "949fe37b-a63a-4e40-8f20-5a6b8887091c"
      },
      "source": [
        "%rerun"
      ],
      "execution_count": 40,
      "outputs": [
        {
          "output_type": "stream",
          "name": "stdout",
          "text": [
            "=== Executing: ===\n",
            "%history -n 1-7\n",
            "=== Output: ===\n",
            "   1:\n",
            "import platform\n",
            "platform.platform()\n",
            "   2: !cat /etc/issue.net\n",
            "   3: !cat /proc/cpuinfo\n",
            "   4: !cat /proc/meminfo\n",
            "   5: !df -h\n",
            "   6: !python --version\n",
            "   7: !nvidia-smi\n"
          ]
        }
      ]
    },
    {
      "cell_type": "markdown",
      "metadata": {
        "id": "LzKq5kwvds25"
      },
      "source": [
        "## 셸 명령어\n",
        "\n",
        "* 텍스트 기반의 셸 명령어 처리\n",
        "* `!` 문자를 명령어 앞에 붙여서 셸 명령어 사용 가능"
      ]
    },
    {
      "cell_type": "markdown",
      "metadata": {
        "id": "oFThpCCPhm45"
      },
      "source": [
        "* `ls`: 디렉토리 리스트 보기"
      ]
    },
    {
      "cell_type": "code",
      "metadata": {
        "id": "7iAgViCpdvh9",
        "colab": {
          "base_uri": "https://localhost:8080/"
        },
        "outputId": "4005b78d-068a-4958-ddef-d73225220987"
      },
      "source": [
        "!ls"
      ],
      "execution_count": 41,
      "outputs": [
        {
          "output_type": "stream",
          "name": "stdout",
          "text": [
            "drive  sample_data  test.py  test.text\twine.csv\n"
          ]
        }
      ]
    },
    {
      "cell_type": "markdown",
      "metadata": {
        "id": "RuKN3MuvhvTB"
      },
      "source": [
        "* `pwd`: 현재 경로 보기"
      ]
    },
    {
      "cell_type": "code",
      "metadata": {
        "id": "aOwJCr3GekKJ",
        "colab": {
          "base_uri": "https://localhost:8080/"
        },
        "outputId": "a97acba2-1aeb-4923-bd56-f89f6a225af0"
      },
      "source": [
        "!pwd"
      ],
      "execution_count": 42,
      "outputs": [
        {
          "output_type": "stream",
          "name": "stdout",
          "text": [
            "/content\n"
          ]
        }
      ]
    },
    {
      "cell_type": "markdown",
      "metadata": {
        "id": "1dCCjWyphyOP"
      },
      "source": [
        "* `cd`: 디렉토리 변경\n",
        "* IPython에서는 임시 셸에서 실행"
      ]
    },
    {
      "cell_type": "code",
      "metadata": {
        "id": "KXtuuGvXfAU-",
        "colab": {
          "base_uri": "https://localhost:8080/"
        },
        "outputId": "e0435857-2bf9-4c17-d330-b667285770d4"
      },
      "source": [
        "!cd sample_data/ && ls"
      ],
      "execution_count": 43,
      "outputs": [
        {
          "output_type": "stream",
          "name": "stdout",
          "text": [
            "anscombe.json\t\t      mnist_test.csv\n",
            "california_housing_test.csv   mnist_train_small.csv\n",
            "california_housing_train.csv  README.md\n"
          ]
        }
      ]
    },
    {
      "cell_type": "markdown",
      "metadata": {
        "id": "yjrAafNlh65Q"
      },
      "source": [
        "* `%cd`: 지속적인 디렉토리 변경"
      ]
    },
    {
      "cell_type": "code",
      "metadata": {
        "id": "Q1MBKD4YfpyB",
        "colab": {
          "base_uri": "https://localhost:8080/"
        },
        "outputId": "0a70e6b4-5861-4fe4-ee23-2f96bdfe06a4"
      },
      "source": [
        "%cd sample_data/"
      ],
      "execution_count": 44,
      "outputs": [
        {
          "output_type": "stream",
          "name": "stdout",
          "text": [
            "/content/sample_data\n"
          ]
        }
      ]
    },
    {
      "cell_type": "markdown",
      "metadata": {
        "id": "b8xPHOjsiQCL"
      },
      "source": [
        "* `echo`: 화면 출력"
      ]
    },
    {
      "cell_type": "code",
      "metadata": {
        "id": "-9FYy8rzeljZ",
        "colab": {
          "base_uri": "https://localhost:8080/"
        },
        "outputId": "2b6aef08-6001-4441-ed73-6426d333db09"
      },
      "source": [
        "!echo \"Shell\""
      ],
      "execution_count": 45,
      "outputs": [
        {
          "output_type": "stream",
          "name": "stdout",
          "text": [
            "Shell\n"
          ]
        }
      ]
    },
    {
      "cell_type": "markdown",
      "metadata": {
        "id": "3oRMLDh_mswk"
      },
      "source": [
        "* `mkdir`: 디렉토리 생성"
      ]
    },
    {
      "cell_type": "code",
      "metadata": {
        "id": "Eofit8K-fcjG"
      },
      "source": [
        "!mkdir tmp"
      ],
      "execution_count": 46,
      "outputs": []
    },
    {
      "cell_type": "code",
      "metadata": {
        "id": "9djMxCwYiXrc",
        "colab": {
          "base_uri": "https://localhost:8080/"
        },
        "outputId": "1b03bef6-7706-4741-c318-ea720f616056"
      },
      "source": [
        "!ls && pwd"
      ],
      "execution_count": 47,
      "outputs": [
        {
          "output_type": "stream",
          "name": "stdout",
          "text": [
            "anscombe.json\t\t      mnist_test.csv\t     tmp\n",
            "california_housing_test.csv   mnist_train_small.csv\n",
            "california_housing_train.csv  README.md\n",
            "/content/sample_data\n"
          ]
        }
      ]
    },
    {
      "cell_type": "markdown",
      "metadata": {
        "id": "Ji6oMNFQmysC"
      },
      "source": [
        "* `cat`: 파일 보기"
      ]
    },
    {
      "cell_type": "code",
      "metadata": {
        "id": "GICda8P6mg1r",
        "colab": {
          "base_uri": "https://localhost:8080/"
        },
        "outputId": "458ae97d-d2bc-4afe-d1f1-52b4509a022c"
      },
      "source": [
        "!cat README.md"
      ],
      "execution_count": 48,
      "outputs": [
        {
          "output_type": "stream",
          "name": "stdout",
          "text": [
            "This directory includes a few sample datasets to get you started.\n",
            "\n",
            "*   `california_housing_data*.csv` is California housing data from the 1990 US\n",
            "    Census; more information is available at:\n",
            "    https://developers.google.com/machine-learning/crash-course/california-housing-data-description\n",
            "\n",
            "*   `mnist_*.csv` is a small sample of the\n",
            "    [MNIST database](https://en.wikipedia.org/wiki/MNIST_database), which is\n",
            "    described at: http://yann.lecun.com/exdb/mnist/\n",
            "\n",
            "*   `anscombe.json` contains a copy of\n",
            "    [Anscombe's quartet](https://en.wikipedia.org/wiki/Anscombe%27s_quartet); it\n",
            "    was originally described in\n",
            "\n",
            "    Anscombe, F. J. (1973). 'Graphs in Statistical Analysis'. American\n",
            "    Statistician. 27 (1): 17-21. JSTOR 2682899.\n",
            "\n",
            "    and our copy was prepared by the\n",
            "    [vega_datasets library](https://github.com/altair-viz/vega_datasets/blob/4f67bdaad10f45e3549984e17e1b3088c731503d/vega_datasets/_data/anscombe.json).\n"
          ]
        }
      ]
    },
    {
      "cell_type": "markdown",
      "metadata": {
        "id": "3Ns4pYQJm1nR"
      },
      "source": [
        "* `cp`: 디렉토리/파일 복사"
      ]
    },
    {
      "cell_type": "code",
      "metadata": {
        "id": "-XIDsmsum7Sb"
      },
      "source": [
        "!cp README.md tmp/"
      ],
      "execution_count": 49,
      "outputs": []
    },
    {
      "cell_type": "code",
      "metadata": {
        "id": "T_3VG78OnDb9",
        "colab": {
          "base_uri": "https://localhost:8080/"
        },
        "outputId": "42cb5e0c-82a5-4d28-d382-fcee3917cfc7"
      },
      "source": [
        "!ls tmp/"
      ],
      "execution_count": 50,
      "outputs": [
        {
          "output_type": "stream",
          "name": "stdout",
          "text": [
            "README.md\n"
          ]
        }
      ]
    },
    {
      "cell_type": "markdown",
      "metadata": {
        "id": "ZR53WLOfnGH7"
      },
      "source": [
        "* `rm`: 디렉토리/파일 삭제"
      ]
    },
    {
      "cell_type": "code",
      "metadata": {
        "id": "WI1dpUV6nJyd"
      },
      "source": [
        "!rm -r tmp/"
      ],
      "execution_count": 51,
      "outputs": []
    },
    {
      "cell_type": "code",
      "metadata": {
        "id": "78Fr9nEhnMsg",
        "colab": {
          "base_uri": "https://localhost:8080/"
        },
        "outputId": "0bc03354-054f-4ece-fe4d-20154b4f6423"
      },
      "source": [
        "!ls"
      ],
      "execution_count": 53,
      "outputs": [
        {
          "output_type": "stream",
          "name": "stdout",
          "text": [
            "anscombe.json\t\t      mnist_test.csv\n",
            "california_housing_test.csv   mnist_train_small.csv\n",
            "california_housing_train.csv  README.md\n"
          ]
        }
      ]
    },
    {
      "cell_type": "markdown",
      "metadata": {
        "id": "OrcSIf_T8gii"
      },
      "source": [
        "\n",
        "\n",
        "---\n",
        "\n"
      ]
    },
    {
      "cell_type": "markdown",
      "metadata": {
        "id": "7hDXZYpnA_DO"
      },
      "source": [
        "# 마크다운(Markdown)\n",
        "\n",
        "* 문법이 간단하고, 사용이 쉬움\n"
      ]
    },
    {
      "cell_type": "markdown",
      "metadata": {
        "id": "c0Sjw59GC_Kn"
      },
      "source": [
        "\n",
        "## 제목(Heading) 표시"
      ]
    },
    {
      "cell_type": "markdown",
      "metadata": {
        "id": "WXfs_Cu1Co-H"
      },
      "source": [
        "# Heading 1\n",
        "## Heading 1\n",
        "### Heading 1\n",
        "#### Heading 1\n",
        "##### Heading 1\n",
        "###### Heading 1"
      ]
    },
    {
      "cell_type": "markdown",
      "metadata": {
        "id": "oTWz1WgDBtqM"
      },
      "source": [
        "## 목록(List) 구성\n",
        "\n"
      ]
    },
    {
      "cell_type": "markdown",
      "metadata": {
        "id": "fSJ0j0Y8CsKW"
      },
      "source": [
        "1. 첫째\n",
        "2. 둘째\n",
        "3. 셋째\n",
        "* 1단계\n",
        "    + 2단계\n",
        "        - 3단계\n",
        "\n",
        "\n",
        "\n",
        "\n",
        "\n",
        "\n"
      ]
    },
    {
      "cell_type": "markdown",
      "metadata": {
        "id": "TsaBsQUsCTE0"
      },
      "source": [
        "## 폰트 스타일(Font Style)\n",
        "\n"
      ]
    },
    {
      "cell_type": "markdown",
      "metadata": {
        "id": "Fu4Lk62RCivG"
      },
      "source": [
        "**bold**\n",
        "__bold__\n",
        "*italic*\n",
        "_italic_\n",
        "~~strike~~\n",
        "<u>underbar</u>\n",
        "\n"
      ]
    },
    {
      "cell_type": "markdown",
      "metadata": {
        "id": "P8PLWLSODwrS"
      },
      "source": [
        "## 인용구\n",
        "\n"
      ]
    },
    {
      "cell_type": "markdown",
      "metadata": {
        "id": "gchOf72GD5lt"
      },
      "source": [
        "> 인용 1\n",
        ">> 인용 2\n",
        ">>> 인영 3"
      ]
    },
    {
      "cell_type": "markdown",
      "metadata": {
        "id": "Jw5EeYO9D8AI"
      },
      "source": [
        "## 링크\n",
        "\n"
      ]
    },
    {
      "cell_type": "markdown",
      "metadata": {
        "id": "2NVoA14BEMqB"
      },
      "source": [
        "[google](https://www.google.com)"
      ]
    },
    {
      "cell_type": "markdown",
      "metadata": {
        "id": "XclscvygEVcp"
      },
      "source": [
        "## 이미지\n"
      ]
    },
    {
      "cell_type": "markdown",
      "metadata": {
        "id": "puOkShcgEnuq"
      },
      "source": [
        "![google](https://www.google.com/images/branding/googlelogo/1x/googlelogo_color_272x92dp.png)"
      ]
    },
    {
      "cell_type": "markdown",
      "metadata": {
        "id": "mVy5Qmd4Erlp"
      },
      "source": [
        "## 수평선\n",
        "\n",
        "\n"
      ]
    },
    {
      "cell_type": "markdown",
      "metadata": {
        "id": "VhNkI-8VEviE"
      },
      "source": [
        "---"
      ]
    },
    {
      "cell_type": "markdown",
      "metadata": {
        "id": "hBVgu-TnEyFt"
      },
      "source": [
        "## 표\n",
        "\n",
        "\n"
      ]
    },
    {
      "cell_type": "markdown",
      "metadata": {
        "id": "5X87z4qYFFF-"
      },
      "source": [
        "| C1 | C2 | C3  |\n",
        "|:---|---:|:---:|\n",
        "| D1 | D2 | D3 |"
      ]
    },
    {
      "cell_type": "markdown",
      "metadata": {
        "id": "hqpFpco_FMfT"
      },
      "source": [
        "## 코드\n",
        "\n",
        "\n",
        "\n",
        "\n"
      ]
    },
    {
      "cell_type": "markdown",
      "metadata": {
        "id": "32V1r2KeG1He"
      },
      "source": [
        "`inline code`\n",
        "\n",
        "```block code```\n",
        "\n",
        "```python \n",
        "def power(b,n)\n",
        "    retrun pow(b,n)\n",
        "```    "
      ]
    }
  ]
}